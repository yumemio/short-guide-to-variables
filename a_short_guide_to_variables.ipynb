{
  "nbformat": 4,
  "nbformat_minor": 0,
  "metadata": {
    "colab": {
      "name": "a_short_guide_to_variables.ipynb",
      "provenance": [],
      "collapsed_sections": [],
      "authorship_tag": "ABX9TyO1HrBF9W+t+zdp0If9iCed",
      "include_colab_link": true
    },
    "kernelspec": {
      "name": "python3",
      "display_name": "Python 3"
    },
    "language_info": {
      "name": "python"
    }
  },
  "cells": [
    {
      "cell_type": "markdown",
      "metadata": {
        "id": "view-in-github",
        "colab_type": "text"
      },
      "source": [
        "<a href=\"https://colab.research.google.com/github/yumemio/short-guide-to-variables/blob/main/a_short_guide_to_variables.ipynb\" target=\"_parent\"><img src=\"https://colab.research.google.com/assets/colab-badge.svg\" alt=\"Open In Colab\"/></a>"
      ]
    },
    {
      "cell_type": "markdown",
      "metadata": {
        "id": "dF4veGYPveuH"
      },
      "source": [
        "# A short guide to variables in Colab\n",
        "\n",
        "Google Colab (or underlying Jupyter Notebook) handles Python variables and envvars in a way I find hard to grasp.\n",
        "\n",
        "So I wrote a notebook to help you get started with handling variables!\n",
        "\n",
        "In this short memo, you will learn:\n",
        "\n",
        "* How to set and use environment variables in Colab (Jupyter)\n",
        "* How to use Python variables in a shell command\n",
        "* How to use environment variables in a Python code"
      ]
    },
    {
      "cell_type": "markdown",
      "metadata": {
        "id": "e9OR2RvENOmF"
      },
      "source": [
        "---\n",
        "\n",
        "## Environment variables in shell commands\n",
        "\n",
        "You can use environment variables in shell commands.\n",
        "\n",
        "👍 Use `%env name=value`, without quoting the value, to set an environment variable.\n",
        "\n",
        "👍 Use `$my_var` or `${my_var}` to get the assigned value.\n",
        "\n",
        "🚫 Do not use `!export`, as it has no effect.\n",
        "\n",
        "🚫 Do not use shell variables (`!name=value`)."
      ]
    },
    {
      "cell_type": "code",
      "metadata": {
        "id": "bmbXHMfwNvFt",
        "colab": {
          "base_uri": "https://localhost:8080/"
        },
        "outputId": "02830e24-d709-457f-fd64-cc472122b059"
      },
      "source": [
        "# correct\n",
        "%env my_config=/content/config.yaml\n",
        "!echo \"Config: $my_config\"\n",
        "!echo \"Config extension: ${my_config##*.}\"\n",
        "\n",
        "!export my_images=\"/content/train/\" # wrong\n",
        "!echo \"Images: $my_images\"\n",
        "\n",
        "!my_json=\"/content/labels.json\"     # wrong\n",
        "!echo \"Labels: $my_json\""
      ],
      "execution_count": null,
      "outputs": [
        {
          "output_type": "stream",
          "name": "stdout",
          "text": [
            "env: my_config=/content/config.yaml\n",
            "Config: /content/config.yaml\n",
            "Config extension: yaml\n",
            "Images: \n",
            "Labels: \n"
          ]
        }
      ]
    },
    {
      "cell_type": "markdown",
      "metadata": {
        "id": "mQWcw6PkgZTF"
      },
      "source": [
        "### Using variables in `%env` declaration\n",
        "\n",
        "👍 You can access **Python** variables in a `%env` command, with `$python_var` or `{python_var}` syntax."
      ]
    },
    {
      "cell_type": "code",
      "metadata": {
        "id": "23wYXq3fg31T",
        "colab": {
          "base_uri": "https://localhost:8080/"
        },
        "outputId": "046a8321-1249-43bf-bd7b-29beae6b0a77"
      },
      "source": [
        "the_number = 42\n",
        "%env epochs=$the_number\n",
        "%env the_answer={the_number}"
      ],
      "execution_count": null,
      "outputs": [
        {
          "output_type": "stream",
          "name": "stdout",
          "text": [
            "env: epochs=42\n",
            "env: the_answer=42\n"
          ]
        }
      ]
    },
    {
      "cell_type": "markdown",
      "metadata": {
        "id": "YVv4fKnGuQY6"
      },
      "source": [
        "🚫 You cannot, however, use environment variables in another `%env` declaration."
      ]
    },
    {
      "cell_type": "code",
      "metadata": {
        "colab": {
          "base_uri": "https://localhost:8080/"
        },
        "id": "TWFMxMOJ59-i",
        "outputId": "a94ccb9e-991d-40b6-e65b-a560540f2641"
      },
      "source": [
        "%env surname=houdini\n",
        "%env full_name=harry $surname\n",
        "%env full_name=harry {surname}"
      ],
      "execution_count": null,
      "outputs": [
        {
          "output_type": "stream",
          "name": "stdout",
          "text": [
            "env: surname=houdini\n",
            "env: full_name=harry $surname\n",
            "env: full_name=harry {surname}\n"
          ]
        }
      ]
    },
    {
      "cell_type": "markdown",
      "metadata": {
        "id": "dkd0KwJQ6iVo"
      },
      "source": [
        "Colab understands and automatically expands `{a_python_expression}` in `%env`, so use `os.environ` instead."
      ]
    },
    {
      "cell_type": "code",
      "metadata": {
        "colab": {
          "base_uri": "https://localhost:8080/"
        },
        "id": "70DiDgxXuX6B",
        "outputId": "7c8738d1-a5a9-4168-ed50-dbfb00ffe75d"
      },
      "source": [
        "import os\n",
        "%env full_name=harry {os.environ['surname']}"
      ],
      "execution_count": null,
      "outputs": [
        {
          "output_type": "stream",
          "name": "stdout",
          "text": [
            "env: full_name=harry houdini\n"
          ]
        }
      ]
    },
    {
      "cell_type": "markdown",
      "metadata": {
        "id": "dRpTezZhnfCI"
      },
      "source": [
        "One common use case of this technique is when you want to append a directory path to `PATH` envvar.\n",
        "\n",
        "The following cell is equivalent to `export PATH=/content/my_bin:$PATH` in bash."
      ]
    },
    {
      "cell_type": "code",
      "metadata": {
        "id": "5gQG0vYrnw8_",
        "colab": {
          "base_uri": "https://localhost:8080/"
        },
        "outputId": "0c7c216d-d9ee-489e-8be8-6a90055d411e"
      },
      "source": [
        "%env PATH=/content/my_bin:{os.environ['PATH']}"
      ],
      "execution_count": null,
      "outputs": [
        {
          "output_type": "stream",
          "name": "stdout",
          "text": [
            "env: PATH=/content/my_bin:/usr/local/nvidia/bin:/usr/local/cuda/bin:/usr/local/sbin:/usr/local/bin:/usr/sbin:/usr/bin:/sbin:/bin:/tools/node/bin:/tools/google-cloud-sdk/bin:/opt/bin\n"
          ]
        }
      ]
    },
    {
      "cell_type": "markdown",
      "metadata": {
        "id": "EMXw62V3rfnz"
      },
      "source": [
        "Let's see if the new `PATH` definition is in effect..."
      ]
    },
    {
      "cell_type": "code",
      "metadata": {
        "id": "grpDcG08qYkG",
        "colab": {
          "base_uri": "https://localhost:8080/"
        },
        "outputId": "a129b805-cdf5-43a6-8a32-753650646218"
      },
      "source": [
        "!mkdir -p /content/my_bin\n",
        "!echo 'echo hello world!' > /content/my_bin/sayhello\n",
        "!chmod u+x /content/my_bin/sayhello\n",
        "!sayhello"
      ],
      "execution_count": null,
      "outputs": [
        {
          "output_type": "stream",
          "name": "stdout",
          "text": [
            "hello world!\n"
          ]
        }
      ]
    },
    {
      "cell_type": "markdown",
      "metadata": {
        "id": "AY1osM_0rtLf"
      },
      "source": [
        "One last caveat:\n",
        "\n",
        "🚫 Do not try to set `PYTHONPATH` with `%env PYTHONPATH=/my/awesome/lib/`. \n",
        "\n",
        "👍 Use `sys.path.append(\"/my/awesome/lib\")` instead.\n",
        "\n",
        "See https://stackoverflow.com/q/34976803/13301046 for details."
      ]
    },
    {
      "cell_type": "code",
      "metadata": {
        "id": "pZewV6R5y3kH",
        "colab": {
          "base_uri": "https://localhost:8080/",
          "height": 377
        },
        "outputId": "affbb3b4-82f2-49b3-f7cb-c94512839c68"
      },
      "source": [
        "import os\n",
        "%env PYTHONPATH=/content/my_lib:{os.environ['PYTHONPATH']}\n",
        "\n",
        "!mkdir -p /content/my_lib\n",
        "script = \"\"\"def inquisite():\n",
        "    print('Nobody expects the Spanish inquisition!')\"\"\"\n",
        "!echo \"{script}\" > /content/my_lib/inquisitor.py\n",
        "\n",
        "import inquisitor\n",
        "inquisitor.inquisite()"
      ],
      "execution_count": null,
      "outputs": [
        {
          "output_type": "stream",
          "name": "stdout",
          "text": [
            "env: PYTHONPATH=/content/my_lib:/env/python\n"
          ]
        },
        {
          "output_type": "error",
          "ename": "ModuleNotFoundError",
          "evalue": "ignored",
          "traceback": [
            "\u001b[0;31m---------------------------------------------------------------------------\u001b[0m",
            "\u001b[0;31mModuleNotFoundError\u001b[0m                       Traceback (most recent call last)",
            "\u001b[0;32m<ipython-input-7-8860606ad1f0>\u001b[0m in \u001b[0;36m<module>\u001b[0;34m()\u001b[0m\n\u001b[1;32m      7\u001b[0m \u001b[0mget_ipython\u001b[0m\u001b[0;34m(\u001b[0m\u001b[0;34m)\u001b[0m\u001b[0;34m.\u001b[0m\u001b[0msystem\u001b[0m\u001b[0;34m(\u001b[0m\u001b[0;34m'echo \"{script}\" > /content/my_lib/inquisitor.py'\u001b[0m\u001b[0;34m)\u001b[0m\u001b[0;34m\u001b[0m\u001b[0;34m\u001b[0m\u001b[0m\n\u001b[1;32m      8\u001b[0m \u001b[0;34m\u001b[0m\u001b[0m\n\u001b[0;32m----> 9\u001b[0;31m \u001b[0;32mimport\u001b[0m \u001b[0minquisitor\u001b[0m\u001b[0;34m\u001b[0m\u001b[0;34m\u001b[0m\u001b[0m\n\u001b[0m\u001b[1;32m     10\u001b[0m \u001b[0minquisitor\u001b[0m\u001b[0;34m.\u001b[0m\u001b[0minquisite\u001b[0m\u001b[0;34m(\u001b[0m\u001b[0;34m)\u001b[0m\u001b[0;34m\u001b[0m\u001b[0;34m\u001b[0m\u001b[0m\n",
            "\u001b[0;31mModuleNotFoundError\u001b[0m: No module named 'inquisitor'",
            "",
            "\u001b[0;31m---------------------------------------------------------------------------\u001b[0;32m\nNOTE: If your import is failing due to a missing package, you can\nmanually install dependencies using either !pip or !apt.\n\nTo view examples of installing some common dependencies, click the\n\"Open Examples\" button below.\n\u001b[0;31m---------------------------------------------------------------------------\u001b[0m\n"
          ],
          "errorDetails": {
            "actions": [
              {
                "action": "open_url",
                "actionText": "Open Examples",
                "url": "/notebooks/snippets/importing_libraries.ipynb"
              }
            ]
          }
        }
      ]
    },
    {
      "cell_type": "code",
      "metadata": {
        "id": "TYDqYLro0jkv",
        "colab": {
          "base_uri": "https://localhost:8080/"
        },
        "outputId": "4d87f2dc-29f1-4d70-be7d-67a1ab572a25"
      },
      "source": [
        "import sys\n",
        "sys.path.append(\"/content/my_lib/\")\n",
        "\n",
        "import inquisitor\n",
        "inquisitor.inquisite()"
      ],
      "execution_count": null,
      "outputs": [
        {
          "output_type": "stream",
          "name": "stdout",
          "text": [
            "Nobody expects the Spanish inquisition!\n"
          ]
        }
      ]
    },
    {
      "cell_type": "markdown",
      "metadata": {
        "id": "QmrdgqxS2wBL"
      },
      "source": [
        "---\n",
        "\n",
        "## Python variables in shell commands\n",
        "\n",
        "One big (and confusing) feature of Jupyter is that **you can use Python variables in shell commands**. You can access them in two ways - `{my_var}` or `$my_var`. Because the latter syntax is the same as shell variable expansion, the former is less ambiguous (\"Was `$my_var` declared as a Python variable, or an envvar?\")\n",
        "\n",
        "Wrapping names with curly braces (`${my_var}`) will cause weird bugs, so don't do that!\n",
        "\n",
        "👍 Use `{my_var}`.\n",
        "\n",
        "👎 `$my_var` works too, but use with caution.\n",
        "\n",
        "🚫 Do not use `${my_var}`."
      ]
    },
    {
      "cell_type": "code",
      "metadata": {
        "id": "OWjCxyUk345-",
        "colab": {
          "base_uri": "https://localhost:8080/"
        },
        "outputId": "82054e43-bc67-4eb1-d4fc-73b5c7045246"
      },
      "source": [
        "my_var = \"gs://foo/bar\"\n",
        "\n",
        "!echo \"The hidden lair lies in {my_var}\"    # correct\n",
        "!echo \"The hidden lair lies in $my_var\"     # ok-ish\n",
        "!echo \"The hidden lair lies in ${my_var}\"   # wrong"
      ],
      "execution_count": null,
      "outputs": [
        {
          "output_type": "stream",
          "name": "stdout",
          "text": [
            "The hidden lair lies in gs://foo/bar\n",
            "The hidden lair lies in gs://foo/bar\n",
            "The hidden lair lies in ://foo/bar\n"
          ]
        }
      ]
    },
    {
      "cell_type": "markdown",
      "metadata": {
        "id": "MukrLqmg-0NT"
      },
      "source": [
        "### Downsides or `$my_var` syntax\n",
        "\n",
        "`$my_var` syntax has two downsides, which leads to a bug-prone code:\n",
        "\n",
        "1. If the variable is used as a part of a string (i.e. the filename in a filepath), it (and nothing after it) must be surrounded with double quotes (`\"`).\n",
        "2. Possible name collision with `%env` variables. \n",
        "`$my_var` can expand to a Python or `%env` variable, whereas `{my_var}` is guaranteed to be understood as a Python variable expansion.\n",
        "\n",
        "I recommend avoiding `$my_var` syntax altogether and using `{my_var}` instead."
      ]
    },
    {
      "cell_type": "code",
      "metadata": {
        "id": "p2ZjetHCA40P",
        "colab": {
          "base_uri": "https://localhost:8080/"
        },
        "outputId": "9e4abb2e-6bf4-4249-c025-fe7110ba07f6"
      },
      "source": [
        "## Demonstration of tricky double quotes\n",
        "filename = \"DSC_0001\"\n",
        "!echo /home/guest/Pictures/\"$filename\".JPG  # correct\n",
        "!echo \"/home/guest/Pictures/$filename.JPG\"  # wrong\n",
        "!echo\n",
        "\n",
        "# If variables with the same name are declared in %env and \n",
        "# Python, the latter always wins.\n",
        "if 'runtime' in globals(): del runtime\n",
        "%env runtime=bash\n",
        "!echo \"> $runtime rules!\"\n",
        "\n",
        "runtime = \"Python\"\n",
        "!echo \"> $runtime rules!\"\n",
        "\n",
        "%env runtime=bash\n",
        "!echo \"> $runtime rules!\""
      ],
      "execution_count": null,
      "outputs": [
        {
          "output_type": "stream",
          "name": "stdout",
          "text": [
            "/home/guest/Pictures/DSC_0001.JPG\n",
            "/home/guest/Pictures/.JPG\n",
            "\n",
            "env: runtime=bash\n",
            "> bash rules!\n",
            "> Python rules!\n",
            "env: runtime=bash\n",
            "> Python rules!\n"
          ]
        }
      ]
    },
    {
      "cell_type": "markdown",
      "metadata": {
        "id": "u3-I2QNS-ARc"
      },
      "source": [
        "### Using `{my_var}`\n",
        "\n",
        "`{my_var}` always expands to a Python variable, and not ones declared using `%env`.\n",
        "\n",
        "If `my_var` is not defined yet, Colab leaves `{my_var}` untouched."
      ]
    },
    {
      "cell_type": "code",
      "metadata": {
        "id": "YxS2QHZ82_hA",
        "colab": {
          "base_uri": "https://localhost:8080/"
        },
        "outputId": "aea0eb7b-8cb5-48e4-cf02-b6e9d8c7211c"
      },
      "source": [
        "if \"runtime\" in globals(): del runtime\n",
        "\n",
        "%env runtime=bash\n",
        "!echo \"> {runtime} rules!\"    # runtime is not defined in Python yet\n",
        "\n",
        "runtime = \"Python\"\n",
        "!echo \"> {runtime} rules!\"\n",
        "\n",
        "%env runtime=bash\n",
        "!echo \"> {runtime} rules!\""
      ],
      "execution_count": null,
      "outputs": [
        {
          "output_type": "stream",
          "name": "stdout",
          "text": [
            "env: runtime=bash\n",
            "> {runtime} rules!\n",
            "> Python rules!\n",
            "env: runtime=bash\n",
            "> Python rules!\n"
          ]
        }
      ]
    },
    {
      "cell_type": "markdown",
      "metadata": {
        "id": "MYeR9RULJMeQ"
      },
      "source": [
        "You can quote `{my_var}` however you want: with double or single quotes."
      ]
    },
    {
      "cell_type": "code",
      "metadata": {
        "id": "v60-pdy7JXNE",
        "colab": {
          "base_uri": "https://localhost:8080/"
        },
        "outputId": "9e6eb16a-c25b-4a48-8b81-74ea40b7ad91"
      },
      "source": [
        "!ls -l \"/content/sample_data/mnist_\"*\".csv\"\n",
        "!echo\n",
        "\n",
        "mode = \"test\"\n",
        "!ls -l '/content/sample_data/mnist_{mode}.csv'"
      ],
      "execution_count": null,
      "outputs": [
        {
          "output_type": "stream",
          "name": "stdout",
          "text": [
            "-rw-r--r-- 1 root root 18289443 Nov  1 13:35 /content/sample_data/mnist_test.csv\n",
            "-rw-r--r-- 1 root root 36523880 Nov  1 13:35 /content/sample_data/mnist_train_small.csv\n",
            "\n",
            "-rw-r--r-- 1 root root 18289443 Nov  1 13:35 /content/sample_data/mnist_test.csv\n"
          ]
        }
      ]
    },
    {
      "cell_type": "markdown",
      "metadata": {
        "id": "XBrRS9Be49sO"
      },
      "source": [
        "This syntax is somewhat similar to Python's f-string or `.format()` method -- but note that advanced formatting features (like text alignment with `<` / `>` operators) are not available."
      ]
    },
    {
      "cell_type": "code",
      "metadata": {
        "id": "5IyJbGYc5a-W",
        "colab": {
          "base_uri": "https://localhost:8080/"
        },
        "outputId": "b4df3197-6828-482e-9fb3-053c5eeb70cc"
      },
      "source": [
        "accelerator = \"TPU\"\n",
        "print(f\"{accelerator:>10}\") # will work\n",
        "!echo \"{accelerator:>10}\"   # won't work"
      ],
      "execution_count": null,
      "outputs": [
        {
          "output_type": "stream",
          "name": "stdout",
          "text": [
            "       TPU\n",
            "{accelerator:>10}\n"
          ]
        }
      ]
    },
    {
      "cell_type": "markdown",
      "metadata": {
        "id": "3Of6v8AvJyzY"
      },
      "source": [
        "### Expansion of Python expressions is all-done-or-nothing-done\n",
        "\n",
        "Evaluation of braced words as Python expressions happen before the line is passed to the shell. If any of the braces fails to expand, Colab (Jupyter) leaves **all** braces in the row in the not-expanded state.\n",
        "\n",
        "This means that **mixing braced Python expressions with other uses of braces in a single line is not allowed**. You have to ensure that all occurences of braced words are understood as valid Python code. \n",
        "\n",
        "So be careful not to use braces for other purposes, notably:\n",
        "- Variable expansion in Bash (`${bash_variable}`)\n",
        "- Argument replacement in `xargs -i` (instead, for example, use`xargs -I@@`)"
      ]
    },
    {
      "cell_type": "code",
      "metadata": {
        "colab": {
          "base_uri": "https://localhost:8080/"
        },
        "id": "rRWJf-hwKpj7",
        "outputId": "55ab6a2d-a03a-494d-b01f-304902bf1804"
      },
      "source": [
        "superhero = \"Batman\"\n",
        "villain = \"the Joker\"\n",
        "!echo \"A story of a hero, {superhero}, fighting against {villain}\"  # Will work\n",
        "!echo \"A story of a hero, {superhero}, with the help of {sidekick}, fighting against {villain}\" # Won't work\n",
        "!echo \"A story of a hero, {superhero}, fighting against {villain}\" # Won't work, since {} is in the comment\n"
      ],
      "execution_count": 1,
      "outputs": [
        {
          "output_type": "stream",
          "name": "stdout",
          "text": [
            "A story of a hero, Batman, fighting against the Joker\n",
            "A story of a hero, {superhero}, with the help of {sidekick}, fighting against {villain}\n",
            "A story of a hero, {superhero}, fighting against {villain}\n"
          ]
        }
      ]
    },
    {
      "cell_type": "code",
      "metadata": {
        "id": "BQkMZFaYR9ZO",
        "outputId": "43195c5a-2e3b-4457-d562-8364ed39c2dd",
        "colab": {
          "base_uri": "https://localhost:8080/"
        }
      },
      "source": [
        "!echo -e \"{superhero}\\n{villain}\" | xargs -n1 -i echo 'Name: {}'    # Won't work, since Jupyter cannot expand the last pair of braces\n",
        "!echo -e \"{superhero}\\n{villain}\" | xargs -n1 -I@@ echo 'Name: @@'  # Will work"
      ],
      "execution_count": 2,
      "outputs": [
        {
          "output_type": "stream",
          "name": "stdout",
          "text": [
            "Name: {superhero}\n",
            "Name: {villain}\n",
            "Name: Batman\n",
            "Name: the Joker\n"
          ]
        }
      ]
    },
    {
      "cell_type": "code",
      "metadata": {
        "colab": {
          "base_uri": "https://localhost:8080/"
        },
        "id": "9eJsZKwKQ84Z",
        "outputId": "9d211773-45b1-4daa-e2cd-c34ebce88a46"
      },
      "source": [
        "%env sidekick=Robin\n",
        "\n",
        "# Case 1: Won't work at all\n",
        "#   Python expansion fails (because of undeclared_variable),\n",
        "#   and Bash replaces undeclared_variable with a whitespace\n",
        "!echo \"A story of a hero, {superhero}, with the help of somebody, fighting against ${undeclared_variable}\"\n",
        "\n",
        "# Case 2: Only bash variable expansion will work\n",
        "#   Python expansion fails (because sidekick is not a Python variable),\n",
        "#   then Bash replaces ${sidekick} with \"Robin\"\n",
        "!echo \"A story of a hero, {superhero}, with the help of ${sidekick}, fighting against {villain}\""
      ],
      "execution_count": 6,
      "outputs": [
        {
          "output_type": "stream",
          "name": "stdout",
          "text": [
            "env: sidekick=Robin\n",
            "A story of a hero, {superhero}, with the help of somebody, fighting against \n",
            "A story of a hero, {superhero}, with the help of Robin, fighting against {villain}\n"
          ]
        }
      ]
    },
    {
      "cell_type": "markdown",
      "metadata": {
        "id": "JjnsK8KdLc7M"
      },
      "source": [
        "---\n",
        "\n",
        "## %env variables in Python cells\n",
        "\n",
        "You can use `os.environ['my_var']` to get environment variables in Python."
      ]
    },
    {
      "cell_type": "code",
      "metadata": {
        "id": "pGU7lSOdLrkt",
        "colab": {
          "base_uri": "https://localhost:8080/"
        },
        "outputId": "1269dcad-26b5-49e7-f83a-56e368faf6b9"
      },
      "source": [
        "%env password=ShinyBash\n",
        "\n",
        "import os\n",
        "print(f\"Your password is: {os.environ['password']}\")"
      ],
      "execution_count": null,
      "outputs": [
        {
          "output_type": "stream",
          "name": "stdout",
          "text": [
            "env: password=ShinyBash\n",
            "Your password is: ShinyBash\n"
          ]
        }
      ]
    },
    {
      "cell_type": "markdown",
      "metadata": {
        "id": "EChyVJQwLnwB"
      },
      "source": [
        "---\n",
        "\n",
        "## Wrap up\n",
        "\n",
        "That's all for handling variables! Here are the takeaways:\n",
        "\n",
        "* There are two types of variables you can use in Colab / Jupyter:\n",
        "  * Environment variables, and\n",
        "  * Python variables.\n",
        "* You can set environment variables with `%env`, and use it in a shell command with `${my_var}`.\n",
        "* You can use Python variables in a shell command with `{my_var}` (don't use `$my_var`!)\n",
        "* Old-school `os.environ` is an handy way to get environment variables in Python.\n",
        "\n",
        "If you want to update / add more tips to this notebook, please open an issue at [the GitHub repo](https://www.github.com/yumemio/short-guide-to-variables)!"
      ]
    }
  ]
}